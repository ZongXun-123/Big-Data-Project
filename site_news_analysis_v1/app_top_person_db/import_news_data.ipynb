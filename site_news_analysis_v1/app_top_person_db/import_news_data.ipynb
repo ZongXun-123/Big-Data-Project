{
 "cells": [
  {
   "cell_type": "code",
   "execution_count": 5,
   "id": "d42ac35f",
   "metadata": {},
   "outputs": [],
   "source": [
    "import os\n",
    "import sys\n",
    "import pandas as pd\n",
    "import argparse\n",
    "from datetime import datetime\n",
    "import pathlib\n",
    "\n",
    "# # Setup Django environment\n",
    "# # Alternative 1: Use absolute path construction\n",
    "# current_dir = os.path.abspath('')\n",
    "# parent_dir = os.path.dirname(current_dir)\n",
    "# sys.path.insert(0, parent_dir)\n",
    "\n",
    "# # Alternative 2: Use pathlib for more modern path handling\n",
    "# parent_path = pathlib.Path().absolute().parent\n",
    "# sys.path.insert(0, str(parent_path))\n",
    "\n",
    "# 新增：將上一層目錄加入 sys.path\n",
    "parent_path = pathlib.Path().absolute().parent\n",
    "sys.path.insert(0, str(parent_path))\n",
    "\n",
    "os.environ.setdefault('DJANGO_SETTINGS_MODULE', 'website_configs.settings')\n",
    "import django\n",
    "django.setup()\n",
    "# 重要：設定環境變數以允許在 Jupyter 的異步環境中執行同步操作\n",
    "os.environ[\"DJANGO_ALLOW_ASYNC_UNSAFE\"] = \"true\"\n",
    "\n",
    "# Now we can import Django models\n",
    "from app_top_person_db.models import TopPerson"
   ]
  },
  {
   "cell_type": "code",
   "execution_count": 6,
   "id": "cb2d9d28",
   "metadata": {},
   "outputs": [
    {
     "name": "stdout",
     "output_type": "stream",
     "text": [
      "Processed row 0: category=政治\n",
      "Processed row 1: category=國際\n",
      "Processed row 2: category=社會\n",
      "Processed row 3: category=生活\n",
      "Processed row 4: category=地方\n",
      "Processed row 5: category=全部\n"
     ]
    }
   ],
   "source": [
    "# Read CSV file\n",
    "csv_file_path = '../app_top_person/dataset/news_top_person_by_ltn_category_news_hw3_via_ner.csv'\n",
    "df = pd.read_csv(csv_file_path, sep=',')\n",
    "\n",
    "# Process each row and create a TopPerson object\n",
    "for idx, row in df.iterrows():\n",
    "    try:\n",
    "        # 處理 photo_link 欄位 (如果你有 photo_link 欄位要用的話)\n",
    "        photo_link = row.get('photo_link', None)\n",
    "        if pd.isna(photo_link) or photo_link == '':\n",
    "            photo_link = None  # 變成真正的 None\n",
    "\n",
    "        # 注意：這裡你的 TopPerson 只有 category 和 top_keys，所以要對應正確\n",
    "        # 例如 CSV 中 top_keys 是存成字串形式的 list，也要一起存進資料庫\n",
    "        TopPerson.objects.update_or_create(\n",
    "            category=row['category'],\n",
    "            defaults={\n",
    "                'top_keys': row['top_keys'],\n",
    "                # 如果你想存 photo_link，以後記得要在 TopPerson model 加上 photo_link 欄位\n",
    "                # 'photo_link': photo_link,\n",
    "            }\n",
    "        )\n",
    "\n",
    "        print(f\"Processed row {idx}: category={row['category']}\")\n",
    "    except Exception as e:\n",
    "        print(f\"Error at row {idx}: {e}\")\n",
    "        print(row)"
   ]
  },
  {
   "cell_type": "code",
   "execution_count": 4,
   "id": "bea8f33c",
   "metadata": {},
   "outputs": [],
   "source": [
    "#created"
   ]
  },
  {
   "cell_type": "code",
   "execution_count": null,
   "id": "2e63a386",
   "metadata": {},
   "outputs": [],
   "source": []
  }
 ],
 "metadata": {
  "kernelspec": {
   "display_name": "ai25",
   "language": "python",
   "name": "python3"
  },
  "language_info": {
   "codemirror_mode": {
    "name": "ipython",
    "version": 3
   },
   "file_extension": ".py",
   "mimetype": "text/x-python",
   "name": "python",
   "nbconvert_exporter": "python",
   "pygments_lexer": "ipython3",
   "version": "3.11.11"
  }
 },
 "nbformat": 4,
 "nbformat_minor": 5
}
